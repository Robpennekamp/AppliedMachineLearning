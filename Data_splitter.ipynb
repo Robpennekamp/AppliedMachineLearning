{
 "cells": [
  {
   "cell_type": "code",
   "execution_count": 2,
   "id": "008767d2",
   "metadata": {},
   "outputs": [],
   "source": [
    "import numpy as np\n",
    "import pandas as pd"
   ]
  },
  {
   "cell_type": "code",
   "execution_count": 3,
   "id": "32a8d5fb",
   "metadata": {},
   "outputs": [],
   "source": [
    "df = pd.read_csv('Pallet_history_Gold_Spike.csv')"
   ]
  },
  {
   "cell_type": "code",
   "execution_count": 8,
   "id": "e7b251e5",
   "metadata": {},
   "outputs": [],
   "source": [
    "for x in range(0, 10):\n",
    "    z = 500000\n",
    "    if (x+1)*z > len(df):\n",
    "        temp_df = df[x*z:]\n",
    "    temp_df = df[x*z:(x+1)*z]\n",
    "    temp_df.to_csv(f'Pallet_history_Gold_Spike[{x}]')"
   ]
  }
 ],
 "metadata": {
  "kernelspec": {
   "display_name": "Python 3 (ipykernel)",
   "language": "python",
   "name": "python3"
  },
  "language_info": {
   "codemirror_mode": {
    "name": "ipython",
    "version": 3
   },
   "file_extension": ".py",
   "mimetype": "text/x-python",
   "name": "python",
   "nbconvert_exporter": "python",
   "pygments_lexer": "ipython3",
   "version": "3.9.7"
  }
 },
 "nbformat": 4,
 "nbformat_minor": 5
}
