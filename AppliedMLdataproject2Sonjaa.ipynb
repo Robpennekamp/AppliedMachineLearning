{
 "cells": [
  {
   "cell_type": "code",
   "execution_count": 102,
   "metadata": {
    "id": "6GgydedI6kRr"
   },
   "outputs": [
    {
     "name": "stdout",
     "output_type": "stream",
     "text": [
      "1000000\n",
      "1500000\n",
      "2000000\n",
      "2500000\n",
      "3000000\n",
      "3500000\n",
      "4000000\n",
      "4500000\n",
      "4925535\n"
     ]
    }
   ],
   "source": [
    "import math, datetime, time, random\n",
    "import numpy as np\n",
    "import pandas as pd\n",
    "from datetime import timedelta\n",
    "import re\n",
    "\n",
    "\n",
    "def load_data(data_path):\n",
    "  data = pd.read_csv(data_path)  \n",
    "  return data\n",
    "\n",
    "inbound = load_data(\"inbound_loads.csv\")\n",
    "outbound = load_data(\"outbound_laods.csv\")\n",
    "weather = load_data(\"weather.csv\")\n",
    "#For loop to ensure that all pallet data is in the same dataframe\n",
    "pallet = load_data(\"Pallet_history_Gold_Spike[0].csv\")\n",
    "for x in range(1, 10):\n",
    "    pallet = pd.concat([pallet, load_data(f\"Pallet_history_Gold_Spike[{x}].csv\")])\n",
    "    print(len(pallet))\n",
    "trainentest = load_data(\"demand_kWtrain_val.csv\")\n",
    "\n",
    "\n"
   ]
  },
  {
   "cell_type": "code",
   "execution_count": 103,
   "metadata": {
    "id": "pwIsOHLEjdRk"
   },
   "outputs": [],
   "source": [
    "import math, datetime, time, random\n",
    "# for data visualization\n",
    "import matplotlib.pyplot as plt\n",
    "#import missingno #doesn't work, why?!\n"
   ]
  },
  {
   "cell_type": "code",
   "execution_count": 104,
   "metadata": {},
   "outputs": [],
   "source": [
    "### function to add time columns to a dataframe\n",
    "\n",
    "def addtimecol(df, colname): ####input df and colname \n",
    "        df[colname] = pd.to_datetime(df[colname])         \n",
    "        df['year'] = df[colname].dt.year\n",
    "        df['month'] = df[colname].dt.month\n",
    "        df['day'] = df[colname].dt.day\n",
    "        df['hour'] = df[colname].dt.hour\n",
    "        df['minute'] = df[colname].dt.minute        \n",
    "        return df"
   ]
  },
  {
   "cell_type": "code",
   "execution_count": 105,
   "metadata": {},
   "outputs": [],
   "source": [
    "###"
   ]
  },
  {
   "cell_type": "code",
   "execution_count": 235,
   "metadata": {
    "id": "Iks72d6PMdey"
   },
   "outputs": [],
   "source": [
    "#### feature: how many warm/new products are in? at time t\n",
    "\n",
    "def f_warmproducts(time):                             ##from a single value in trainentest, get the amount of products that \n",
    "                                                      ###entered the building within 24 hours\n",
    "    amount = 0    \n",
    "    delta = timedelta(days = 1)    \n",
    "    t = datetime.datetime.strptime(time, '%m/%d/%y %H:%M')\n",
    "    newtime = delta + t\n",
    "    inbound['load_start_datetime'] = pd.to_datetime(inbound['load_start_datetime'])  ###make column datetime objects\n",
    "    \n",
    "    for index, row in inbound.iterrows():                                      ### amount+1 for each order that entered the building within 24h\n",
    "        if inbound.at[index, 'carrier_code'] != \"CANCEL\":\n",
    "            if t <= inbound.at[index, 'load_start_datetime'] <= newtime :\n",
    "                amount += measurewarmth(index, row)                            ### use measurewarmth to estimate the warmth that an entry brings in\n",
    "                \n",
    "    return amount\n",
    "                \n",
    "\n",
    "\n",
    "def measurewarmth(index, row):                                                ###currently, measure warmth uses the weight only to estimate the heat\n",
    "    weight = inbound.at[index, 'net_weight']\n",
    "    #medianwarmth(index,row) = \n",
    "    return weight\n",
    "\n",
    "\n",
    "\n",
    "\n",
    "    \n",
    "\n",
    "    \n",
    "\n",
    "\n"
   ]
  },
  {
   "cell_type": "code",
   "execution_count": 238,
   "metadata": {},
   "outputs": [
    {
     "name": "stdout",
     "output_type": "stream",
     "text": [
      "    datetime_local  f_warmproducts\n",
      "125    1/2/19 4:30       1411060.0\n",
      "126    1/2/19 4:45       1411060.0\n",
      "127    1/2/19 5:00       1411060.0\n",
      "128    1/2/19 5:15       1411060.0\n",
      "129    1/2/19 5:30       1411060.0\n"
     ]
    }
   ],
   "source": [
    "####using the functions I made\n",
    "\n",
    "features = pd.DataFrame({'datetime_local': trainentest['datetime_local'][0:273987]})   ###making a dataframe for features\n",
    "\n",
    "for index, rows in features.iterrows(): ###This takes extremely long\n",
    "   \n",
    "    features['f_warmproducts'] = f_warmproducts(features.at[index, 'datetime_local'])\n",
    "    \n",
    "print(features)\n",
    "    \n",
    "\n",
    "\n",
    "###using addtimecol to inbound given a certain column\n",
    "#inbound = addtimecol(inbound, 'load_start_datetime')"
   ]
  },
  {
   "cell_type": "code",
   "execution_count": 229,
   "metadata": {},
   "outputs": [],
   "source": [
    "####estimating the current warmth of incoming products \n",
    "###\n",
    "\n",
    "def medianwarmth(index,row):\n",
    "    ###make new dataframe for this section \n",
    "    df = pd.DataFrame({'customer_code': inbound['customer_code'], 'carrier_code': inbound['carrier_code'], 'middle_temperature': inbound['middle_temperature']})\n",
    "    ###filter through missing values/droplevel at missing values\n",
    "    df = df.dropna()\n",
    "    customer = inbound.at[index, 'customer_code']\n",
    "    grouped = df.groupby('customer_code')['middle_temperature']\n",
    "    temperatures = grouped.get_group(customer)[\"middle_temperature\"].tolist()\n",
    "\n",
    "    print(temperatures.median())\n",
    "    \n",
    "\n",
    "\n",
    "###find mean and variance in temperature per customer, plot them to see if usable.\n",
    "\n",
    "#df['middle_temperature'].var() ### variance in total\n",
    "#grouped.count()  ### amount per grouped category\n",
    "#grouped.median() \n",
    "#grouped.var()\n",
    "\n",
    "\n",
    "\n",
    "#ax = df.plot.bar(x='customer_code', y='middle_temperature', rot=0)\n",
    "#for index,row in inbound.iterrows():\n",
    "#    if inbound.at[index, 'middle_temperature']\n",
    "#df.value_counts('customer_code')"
   ]
  },
  {
   "cell_type": "code",
   "execution_count": 152,
   "metadata": {},
   "outputs": [],
   "source": [
    "\n",
    "#print(inbound[\"load_start_datetime\"][1])\n",
    "\n",
    "#print(inbound[\"load_start_datetime\"].dt)\n",
    "#datumwoord = pd.DataFrame({\"date_string\": inbound[\"load_start_datetime\"][0:7]})\n",
    "#s = datumwoord[\"date_string\"]\n",
    "#stime = pd.to_datetime(datumwoord[\"date_string\"])\n",
    "#datumwoord[\"date_string\"] = pd.to_datetime(datumwoord[\"date_string\"])\n",
    "#print(datumwoord[\"date_string\"].dt.year)\n",
    "##id = ordersin.loc[ordersin['warehouse_order_number'] == 1290649.0, 'load_start_datetime'][0]\n",
    "#stime = datetime.datetime.strptime(s[1],'%Y-%m-%d %H:%M:%S')\n",
    "#print(stime)\n"
   ]
  },
  {
   "cell_type": "code",
   "execution_count": null,
   "metadata": {
    "colab": {
     "base_uri": "https://localhost:8080/"
    },
    "id": "XXuGO5sMNXm8",
    "outputId": "976536a7-441f-4770-c483-43a2861db264"
   },
   "outputs": [],
   "source": []
  },
  {
   "cell_type": "code",
   "execution_count": null,
   "metadata": {
    "colab": {
     "base_uri": "https://localhost:8080/",
     "height": 403
    },
    "id": "5etBuOV3mniN",
    "outputId": "2346b0ac-3201-4761-8ba4-9e5f8c15be50"
   },
   "outputs": [],
   "source": [
    "\n"
   ]
  },
  {
   "cell_type": "code",
   "execution_count": null,
   "metadata": {},
   "outputs": [],
   "source": []
  }
 ],
 "metadata": {
  "colab": {
   "provenance": []
  },
  "kernelspec": {
   "display_name": "Python 3",
   "language": "python",
   "name": "python3"
  },
  "language_info": {
   "codemirror_mode": {
    "name": "ipython",
    "version": 3
   },
   "file_extension": ".py",
   "mimetype": "text/x-python",
   "name": "python",
   "nbconvert_exporter": "python",
   "pygments_lexer": "ipython3",
   "version": "3.7.3"
  }
 },
 "nbformat": 4,
 "nbformat_minor": 1
}
