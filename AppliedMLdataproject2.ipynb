{
 "cells": [
  {
   "cell_type": "code",
   "execution_count": null,
   "metadata": {
    "id": "6GgydedI6kRr"
   },
   "outputs": [
    {
     "name": "stdout",
     "output_type": "stream",
     "text": [
      "1000000\n",
      "1500000\n",
      "2000000\n",
      "2500000\n",
      "3000000\n",
      "3500000\n",
      "4000000\n"
     ]
    }
   ],
   "source": [
    "import math, datetime, time, random\n",
    "import numpy as np\n",
    "import pandas as pd\n",
    "\n",
    "import re\n",
    "\n",
    "\n",
    "def load_data(data_path):\n",
    "  data = pd.read_csv(data_path)  \n",
    "  return data\n",
    "\n",
    "inbound = load_data(\"inbound_loads.csv\")\n",
    "outbound = load_data(\"outbound_laods.csv\")\n",
    "weather = load_data(\"weather.csv\")\n",
    "#For loop to ensure that all pallet data is in the same dataframe\n",
    "pallet = load_data(\"Pallet_history_Gold_Spike[0].csv\")\n",
    "for x in range(1, 10):\n",
    "    pallet = pd.concat([pallet, load_data(f\"Pallet_history_Gold_Spike[{x}].csv\")])\n",
    "    print(len(pallet))\n",
    "trainentest = load_data(\"demand_kWtrain_val.csv\")\n",
    "\n",
    "\n"
   ]
  },
  {
   "cell_type": "code",
   "execution_count": null,
   "metadata": {
    "id": "pwIsOHLEjdRk"
   },
   "outputs": [],
   "source": [
    "import math, datetime, time, random\n",
    "# for data visualization\n",
    "import matplotlib.pyplot as plt\n",
    "import missingno\n"
   ]
  },
  {
   "cell_type": "code",
   "execution_count": null,
   "metadata": {
    "id": "Iks72d6PMdey"
   },
   "outputs": [],
   "source": [
    "#inbound\n",
    "#inbound['front_temperature']\n",
    "\n"
   ]
  },
  {
   "cell_type": "code",
   "execution_count": 8,
   "metadata": {
    "colab": {
     "base_uri": "https://localhost:8080/"
    },
    "id": "XXuGO5sMNXm8",
    "outputId": "976536a7-441f-4770-c483-43a2861db264"
   },
   "outputs": [
    {
     "data": {
      "text/plain": [
       "FORK020888    10876\n",
       "CFORK17103     9776\n",
       "CFORK15449     2567\n",
       "FORK006905     2539\n",
       "FORK024518     2293\n",
       "FORK005360     1978\n",
       "FORK028825     1978\n",
       "FORK014507     1836\n",
       "FORK014701     1568\n",
       "FORK006836     1455\n",
       "FORK014706     1202\n",
       "FORK014704      915\n",
       "INVERTER05      807\n",
       "INVERTER15      803\n",
       "DR022           661\n",
       "FORK029017      655\n",
       "FORK006835      644\n",
       "0150010991      623\n",
       "DR023           616\n",
       "DR035           608\n",
       "FORK014705      608\n",
       "INVERTER04      565\n",
       "DR039           519\n",
       "INVERTER03      513\n",
       "INVENTORY1      508\n",
       "WRAPMCHN05      474\n",
       "DR036           466\n",
       "CFORK05600      466\n",
       "WRAPMCHN04      464\n",
       "DR037           458\n",
       "DR038           448\n",
       "015003004F      431\n",
       "DR024           412\n",
       "DR040           404\n",
       "CFORK06126      397\n",
       "DR034           383\n",
       "DR019           356\n",
       "DR041           355\n",
       "0150030831      351\n",
       "CFORK05601      346\n",
       "SPJ0024348      327\n",
       "0020100011      310\n",
       "DR052           294\n",
       "015001004F      287\n",
       "DR021           286\n",
       "CFORK05599      255\n",
       "FORK005361      252\n",
       "DR020           251\n",
       "DR068           245\n",
       "0050310141      234\n",
       "Name: to_location_code, dtype: int64"
      ]
     },
     "execution_count": 8,
     "metadata": {},
     "output_type": "execute_result"
    }
   ],
   "source": [
    "##Visualizing features\n",
    "\n",
    "#for categorical features (work_type, move category)\n",
    "pallet[\"to_location_code\"].value_counts().head(50)\n",
    "\n",
    "#plt.hist(pallet[\"tran_type\"])\n"
   ]
  },
  {
   "cell_type": "code",
   "execution_count": null,
   "metadata": {
    "colab": {
     "base_uri": "https://localhost:8080/",
     "height": 403
    },
    "id": "5etBuOV3mniN",
    "outputId": "2346b0ac-3201-4761-8ba4-9e5f8c15be50"
   },
   "outputs": [],
   "source": [
    "##Visualize Missing Values\n",
    "missingno.matrix(trainentest, figsize = [20,5])\n"
   ]
  },
  {
   "cell_type": "code",
   "execution_count": null,
   "metadata": {},
   "outputs": [],
   "source": []
  }
 ],
 "metadata": {
  "colab": {
   "provenance": []
  },
  "kernelspec": {
   "display_name": "Python 3",
   "language": "python",
   "name": "python3"
  },
  "language_info": {
   "codemirror_mode": {
    "name": "ipython",
    "version": 3
   },
   "file_extension": ".py",
   "mimetype": "text/x-python",
   "name": "python",
   "nbconvert_exporter": "python",
   "pygments_lexer": "ipython3",
   "version": "3.7.3"
  }
 },
 "nbformat": 4,
 "nbformat_minor": 1
}
