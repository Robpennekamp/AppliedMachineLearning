{
 "cells": [
  {
   "cell_type": "markdown",
   "metadata": {},
   "source": [
    "# Data loading"
   ]
  },
  {
   "cell_type": "markdown",
   "metadata": {},
   "source": [
    "# Python packages\n",
    "\n",
    "\n"
   ]
  },
  {
   "cell_type": "code",
   "execution_count": 5,
   "metadata": {
    "id": "pwIsOHLEjdRk"
   },
   "outputs": [],
   "source": [
    "import math, datetime, time, random\n",
    "import numpy as np\n",
    "import pandas as pd\n",
    "from datetime import timedelta\n",
    "import re\n",
    "import math, datetime, time, random\n",
    "import matplotlib.pyplot as plt\n",
    "from datetime import datetime, timedelta\n"
   ]
  },
  {
   "cell_type": "markdown",
   "metadata": {},
   "source": [
    "# Door open - inbound\n",
    "\n",
    "\n"
   ]
  },
  {
   "cell_type": "code",
   "execution_count": 6,
   "metadata": {},
   "outputs": [],
   "source": [
    "inbound = pd.read_csv('inbound_loads.csv')\n",
    "ft = pd.read_csv('featuretrain.csv')"
   ]
  },
  {
   "cell_type": "markdown",
   "metadata": {},
   "source": [
    "### Uitleg\n",
    "\n",
    "1. Get all the minutes for the interval in between start and finish\n"
   ]
  },
  {
   "cell_type": "code",
   "execution_count": 7,
   "metadata": {},
   "outputs": [],
   "source": [
    "def interval_min(start_date, end_date):\n",
    "    dates_range = []\n",
    "    while start_date <= end_date:\n",
    "        dates_range.append(start_date) # or you can append str(start_date) if want the dates to be as strings\n",
    "        start_date += timedelta(minutes=1)\n",
    "    return dates_range"
   ]
  },
  {
   "cell_type": "code",
   "execution_count": 8,
   "metadata": {},
   "outputs": [
    {
     "data": {
      "text/html": [
       "<div>\n",
       "<style scoped>\n",
       "    .dataframe tbody tr th:only-of-type {\n",
       "        vertical-align: middle;\n",
       "    }\n",
       "\n",
       "    .dataframe tbody tr th {\n",
       "        vertical-align: top;\n",
       "    }\n",
       "\n",
       "    .dataframe thead th {\n",
       "        text-align: right;\n",
       "    }\n",
       "</style>\n",
       "<table border=\"1\" class=\"dataframe\">\n",
       "  <thead>\n",
       "    <tr style=\"text-align: right;\">\n",
       "      <th></th>\n",
       "      <th>load_start_datetime</th>\n",
       "      <th>load_finish_datetime</th>\n",
       "      <th>dock_door_number</th>\n",
       "    </tr>\n",
       "  </thead>\n",
       "  <tbody>\n",
       "    <tr>\n",
       "      <th>0</th>\n",
       "      <td>2019-02-11 04:42:00</td>\n",
       "      <td>2019-02-11 04:51:00</td>\n",
       "      <td>59.0</td>\n",
       "    </tr>\n",
       "    <tr>\n",
       "      <th>1</th>\n",
       "      <td>2019-01-16 10:11:00</td>\n",
       "      <td>2019-01-16 11:27:00</td>\n",
       "      <td>60.0</td>\n",
       "    </tr>\n",
       "    <tr>\n",
       "      <th>2</th>\n",
       "      <td>2019-07-30 09:59:00</td>\n",
       "      <td>2019-07-30 10:18:00</td>\n",
       "      <td>61.0</td>\n",
       "    </tr>\n",
       "    <tr>\n",
       "      <th>3</th>\n",
       "      <td>2019-01-10 08:51:00</td>\n",
       "      <td>2019-01-10 08:58:00</td>\n",
       "      <td>58.0</td>\n",
       "    </tr>\n",
       "    <tr>\n",
       "      <th>4</th>\n",
       "      <td>2019-01-10 07:26:00</td>\n",
       "      <td>2019-01-10 08:08:00</td>\n",
       "      <td>56.0</td>\n",
       "    </tr>\n",
       "  </tbody>\n",
       "</table>\n",
       "</div>"
      ],
      "text/plain": [
       "   load_start_datetime load_finish_datetime  dock_door_number\n",
       "0  2019-02-11 04:42:00  2019-02-11 04:51:00              59.0\n",
       "1  2019-01-16 10:11:00  2019-01-16 11:27:00              60.0\n",
       "2  2019-07-30 09:59:00  2019-07-30 10:18:00              61.0\n",
       "3  2019-01-10 08:51:00  2019-01-10 08:58:00              58.0\n",
       "4  2019-01-10 07:26:00  2019-01-10 08:08:00              56.0"
      ]
     },
     "execution_count": 8,
     "metadata": {},
     "output_type": "execute_result"
    }
   ],
   "source": [
    "door = inbound.filter(['load_start_datetime', 'load_finish_datetime', 'dock_door_number'], axis=1)\n",
    "door.head(5)"
   ]
  },
  {
   "cell_type": "markdown",
   "metadata": {},
   "source": [
    "2. Get all the minutes intervals and put them in a new dataframe"
   ]
  },
  {
   "cell_type": "code",
   "execution_count": 9,
   "metadata": {},
   "outputs": [
    {
     "name": "stderr",
     "output_type": "stream",
     "text": [
      "C:\\Users\\suzan\\anaconda3\\lib\\site-packages\\pandas\\core\\indexing.py:1637: SettingWithCopyWarning: \n",
      "A value is trying to be set on a copy of a slice from a DataFrame\n",
      "\n",
      "See the caveats in the documentation: https://pandas.pydata.org/pandas-docs/stable/user_guide/indexing.html#returning-a-view-versus-a-copy\n",
      "  self._setitem_single_block(indexer, value, name)\n"
     ]
    }
   ],
   "source": [
    "door['load_finish_datetime'] = pd.to_datetime(door['load_finish_datetime'])\n",
    "door['load_start_datetime'] = pd.to_datetime(door['load_start_datetime'])\n",
    "\n",
    "door['load_minutes'] = np.nan\n",
    "\n",
    "for index, row in door.iterrows():\n",
    "    door['load_minutes'].iloc[index] = interval_min(door['load_start_datetime'].iloc[index], door['load_finish_datetime'].iloc[index])"
   ]
  },
  {
   "cell_type": "code",
   "execution_count": 10,
   "metadata": {},
   "outputs": [],
   "source": [
    "door = door.drop_duplicates(subset=['load_start_datetime', 'load_finish_datetime', 'dock_door_number'], keep=\"first\")"
   ]
  },
  {
   "cell_type": "markdown",
   "metadata": {},
   "source": [
    "3. Make a flat list from the 'load_minutes' column "
   ]
  },
  {
   "cell_type": "code",
   "execution_count": 11,
   "metadata": {},
   "outputs": [
    {
     "data": {
      "text/plain": [
       "pandas._libs.tslibs.timestamps.Timestamp"
      ]
     },
     "execution_count": 11,
     "metadata": {},
     "output_type": "execute_result"
    }
   ],
   "source": [
    "def flatten(l):\n",
    "    return [item for sublist in l for item in sublist]\n",
    "\n",
    "list_min = door['load_minutes'].tolist()\n",
    "list_min = flatten(list_min)\n",
    "type(list_min[0])"
   ]
  },
  {
   "cell_type": "markdown",
   "metadata": {},
   "source": [
    "4. Create new dataframe with each time as an individual row (instead of list in each row). And change type from timeFrame to Datetime"
   ]
  },
  {
   "cell_type": "code",
   "execution_count": 13,
   "metadata": {},
   "outputs": [],
   "source": [
    "minutes = pd.DataFrame(list_min)\n",
    "minutes.columns =['datetime_local']\n",
    "#minutes['datetime_local'] = pd.to_datetime(minutes['datetime_local'], unit='s')\n",
    "#minutes['datetime_local'] = pd.Series(minutes.datetime_local.dt.to_pydatetime(), dtype='O')"
   ]
  },
  {
   "cell_type": "markdown",
   "metadata": {},
   "source": [
    "5. Create a new dataframe with datetime and count"
   ]
  },
  {
   "cell_type": "code",
   "execution_count": 14,
   "metadata": {},
   "outputs": [
    {
     "data": {
      "text/html": [
       "<div>\n",
       "<style scoped>\n",
       "    .dataframe tbody tr th:only-of-type {\n",
       "        vertical-align: middle;\n",
       "    }\n",
       "\n",
       "    .dataframe tbody tr th {\n",
       "        vertical-align: top;\n",
       "    }\n",
       "\n",
       "    .dataframe thead th {\n",
       "        text-align: right;\n",
       "    }\n",
       "</style>\n",
       "<table border=\"1\" class=\"dataframe\">\n",
       "  <thead>\n",
       "    <tr style=\"text-align: right;\">\n",
       "      <th></th>\n",
       "      <th>counts</th>\n",
       "    </tr>\n",
       "    <tr>\n",
       "      <th>datetime_local</th>\n",
       "      <th></th>\n",
       "    </tr>\n",
       "  </thead>\n",
       "  <tbody>\n",
       "    <tr>\n",
       "      <th>2021-12-23 09:48:00</th>\n",
       "      <td>12</td>\n",
       "    </tr>\n",
       "    <tr>\n",
       "      <th>2021-12-23 09:50:00</th>\n",
       "      <td>12</td>\n",
       "    </tr>\n",
       "    <tr>\n",
       "      <th>2021-12-23 09:51:00</th>\n",
       "      <td>12</td>\n",
       "    </tr>\n",
       "    <tr>\n",
       "      <th>2021-12-23 09:52:00</th>\n",
       "      <td>12</td>\n",
       "    </tr>\n",
       "    <tr>\n",
       "      <th>2021-12-23 09:53:00</th>\n",
       "      <td>12</td>\n",
       "    </tr>\n",
       "    <tr>\n",
       "      <th>...</th>\n",
       "      <td>...</td>\n",
       "    </tr>\n",
       "    <tr>\n",
       "      <th>2020-04-10 17:55:00</th>\n",
       "      <td>1</td>\n",
       "    </tr>\n",
       "    <tr>\n",
       "      <th>2020-04-10 17:56:00</th>\n",
       "      <td>1</td>\n",
       "    </tr>\n",
       "    <tr>\n",
       "      <th>2020-04-10 17:57:00</th>\n",
       "      <td>1</td>\n",
       "    </tr>\n",
       "    <tr>\n",
       "      <th>2020-04-10 17:58:00</th>\n",
       "      <td>1</td>\n",
       "    </tr>\n",
       "    <tr>\n",
       "      <th>2022-01-03 17:23:00</th>\n",
       "      <td>1</td>\n",
       "    </tr>\n",
       "  </tbody>\n",
       "</table>\n",
       "<p>897253 rows × 1 columns</p>\n",
       "</div>"
      ],
      "text/plain": [
       "                     counts\n",
       "datetime_local             \n",
       "2021-12-23 09:48:00      12\n",
       "2021-12-23 09:50:00      12\n",
       "2021-12-23 09:51:00      12\n",
       "2021-12-23 09:52:00      12\n",
       "2021-12-23 09:53:00      12\n",
       "...                     ...\n",
       "2020-04-10 17:55:00       1\n",
       "2020-04-10 17:56:00       1\n",
       "2020-04-10 17:57:00       1\n",
       "2020-04-10 17:58:00       1\n",
       "2022-01-03 17:23:00       1\n",
       "\n",
       "[897253 rows x 1 columns]"
      ]
     },
     "execution_count": 14,
     "metadata": {},
     "output_type": "execute_result"
    }
   ],
   "source": [
    "test = minutes.value_counts().to_frame('counts')\n",
    "#test = minutes.value_counts().rename_axis('datetime_local').to_frame('counts')\n",
    "test"
   ]
  },
  {
   "cell_type": "markdown",
   "metadata": {},
   "source": [
    "Bit sketchy but works.\n",
    "- Reset the index level of dataframe 'test' and then turn Timeframe type into datetime\n",
    "- Do the same with dataframe 'ft', so reset index level (is string), then turn type to datetime.\n"
   ]
  },
  {
   "cell_type": "code",
   "execution_count": 15,
   "metadata": {},
   "outputs": [],
   "source": [
    "test = test.reset_index(level=[0])\n",
    "#type(test.index)\n",
    "#type(test['datetime_local'][0])\n",
    "\n",
    "test['datetime_local'] = pd.to_datetime(test['datetime_local'], unit='s')\n",
    "test['datetime_local'] = pd.Series(test.datetime_local.dt.to_pydatetime(), dtype='O')"
   ]
  },
  {
   "cell_type": "code",
   "execution_count": 31,
   "metadata": {},
   "outputs": [
    {
     "data": {
      "text/plain": [
       "str"
      ]
     },
     "execution_count": 31,
     "metadata": {},
     "output_type": "execute_result"
    }
   ],
   "source": [
    "ft = ft.reset_index(level=[0])\n",
    "type(ft['datetime_UTC'][0])"
   ]
  },
  {
   "cell_type": "code",
   "execution_count": 32,
   "metadata": {},
   "outputs": [
    {
     "data": {
      "text/plain": [
       "datetime.datetime"
      ]
     },
     "execution_count": 32,
     "metadata": {},
     "output_type": "execute_result"
    }
   ],
   "source": [
    "ft['datetime_local'] = pd.to_datetime(ft['datetime_local'], unit='s')\n",
    "ft['datetime_local'] = pd.Series(ft.datetime_local.dt.to_pydatetime(), dtype='O')\n",
    "type(ft.datetime_local[0])"
   ]
  },
  {
   "cell_type": "markdown",
   "metadata": {},
   "source": [
    "- Set datetime_local as index again. (Now the type of both is the same, which is necessary for merging correctly)."
   ]
  },
  {
   "cell_type": "code",
   "execution_count": 33,
   "metadata": {},
   "outputs": [
    {
     "ename": "KeyError",
     "evalue": "\"None of ['datetime_local'] are in the columns\"",
     "output_type": "error",
     "traceback": [
      "\u001b[1;31m---------------------------------------------------------------------------\u001b[0m",
      "\u001b[1;31mKeyError\u001b[0m                                  Traceback (most recent call last)",
      "\u001b[1;32m<ipython-input-33-eff6b9d97e11>\u001b[0m in \u001b[0;36m<module>\u001b[1;34m\u001b[0m\n\u001b[0;32m      1\u001b[0m \u001b[0mft\u001b[0m\u001b[1;33m.\u001b[0m\u001b[0mset_index\u001b[0m\u001b[1;33m(\u001b[0m\u001b[1;34m'datetime_local'\u001b[0m\u001b[1;33m,\u001b[0m \u001b[0minplace\u001b[0m\u001b[1;33m=\u001b[0m\u001b[1;32mTrue\u001b[0m\u001b[1;33m)\u001b[0m\u001b[1;33m\u001b[0m\u001b[1;33m\u001b[0m\u001b[0m\n\u001b[1;32m----> 2\u001b[1;33m \u001b[0mtest\u001b[0m\u001b[1;33m.\u001b[0m\u001b[0mset_index\u001b[0m\u001b[1;33m(\u001b[0m\u001b[1;34m'datetime_local'\u001b[0m\u001b[1;33m,\u001b[0m \u001b[0minplace\u001b[0m\u001b[1;33m=\u001b[0m\u001b[1;32mTrue\u001b[0m\u001b[1;33m)\u001b[0m\u001b[1;33m\u001b[0m\u001b[1;33m\u001b[0m\u001b[0m\n\u001b[0m",
      "\u001b[1;32m~\\anaconda3\\lib\\site-packages\\pandas\\core\\frame.py\u001b[0m in \u001b[0;36mset_index\u001b[1;34m(self, keys, drop, append, inplace, verify_integrity)\u001b[0m\n\u001b[0;32m   4725\u001b[0m \u001b[1;33m\u001b[0m\u001b[0m\n\u001b[0;32m   4726\u001b[0m         \u001b[1;32mif\u001b[0m \u001b[0mmissing\u001b[0m\u001b[1;33m:\u001b[0m\u001b[1;33m\u001b[0m\u001b[1;33m\u001b[0m\u001b[0m\n\u001b[1;32m-> 4727\u001b[1;33m             \u001b[1;32mraise\u001b[0m \u001b[0mKeyError\u001b[0m\u001b[1;33m(\u001b[0m\u001b[1;34mf\"None of {missing} are in the columns\"\u001b[0m\u001b[1;33m)\u001b[0m\u001b[1;33m\u001b[0m\u001b[1;33m\u001b[0m\u001b[0m\n\u001b[0m\u001b[0;32m   4728\u001b[0m \u001b[1;33m\u001b[0m\u001b[0m\n\u001b[0;32m   4729\u001b[0m         \u001b[1;32mif\u001b[0m \u001b[0minplace\u001b[0m\u001b[1;33m:\u001b[0m\u001b[1;33m\u001b[0m\u001b[1;33m\u001b[0m\u001b[0m\n",
      "\u001b[1;31mKeyError\u001b[0m: \"None of ['datetime_local'] are in the columns\""
     ]
    }
   ],
   "source": [
    "ft.set_index('datetime_local', inplace=True)\n",
    "test.set_index('datetime_local', inplace=True)"
   ]
  },
  {
   "cell_type": "markdown",
   "metadata": {},
   "source": [
    "- Now merge ft and test dataframe, on the content of the datetime_local of the ft dataframe. \n"
   ]
  },
  {
   "cell_type": "code",
   "execution_count": 34,
   "metadata": {},
   "outputs": [],
   "source": [
    "feat_min = ft.merge(test, left_on='datetime_local', right_index=True, how='left').reset_index()"
   ]
  },
  {
   "cell_type": "code",
   "execution_count": 38,
   "metadata": {},
   "outputs": [
    {
     "data": {
      "text/html": [
       "<div>\n",
       "<style scoped>\n",
       "    .dataframe tbody tr th:only-of-type {\n",
       "        vertical-align: middle;\n",
       "    }\n",
       "\n",
       "    .dataframe tbody tr th {\n",
       "        vertical-align: top;\n",
       "    }\n",
       "\n",
       "    .dataframe thead th {\n",
       "        text-align: right;\n",
       "    }\n",
       "</style>\n",
       "<table border=\"1\" class=\"dataframe\">\n",
       "  <thead>\n",
       "    <tr style=\"text-align: right;\">\n",
       "      <th></th>\n",
       "      <th>level_0</th>\n",
       "      <th>index</th>\n",
       "      <th>year</th>\n",
       "      <th>month</th>\n",
       "      <th>weekday</th>\n",
       "      <th>day</th>\n",
       "      <th>hour</th>\n",
       "      <th>minute</th>\n",
       "      <th>datetime</th>\n",
       "      <th>Relative Humidity</th>\n",
       "      <th>Temperature</th>\n",
       "      <th>datetime_UTC</th>\n",
       "      <th>counts</th>\n",
       "    </tr>\n",
       "    <tr>\n",
       "      <th>datetime_local</th>\n",
       "      <th></th>\n",
       "      <th></th>\n",
       "      <th></th>\n",
       "      <th></th>\n",
       "      <th></th>\n",
       "      <th></th>\n",
       "      <th></th>\n",
       "      <th></th>\n",
       "      <th></th>\n",
       "      <th></th>\n",
       "      <th></th>\n",
       "      <th></th>\n",
       "      <th></th>\n",
       "    </tr>\n",
       "  </thead>\n",
       "  <tbody>\n",
       "    <tr>\n",
       "      <th>2018-12-31 18:00:00</th>\n",
       "      <td>0</td>\n",
       "      <td>0</td>\n",
       "      <td>NaN</td>\n",
       "      <td>NaN</td>\n",
       "      <td>NaN</td>\n",
       "      <td>NaN</td>\n",
       "      <td>NaN</td>\n",
       "      <td>NaN</td>\n",
       "      <td>2018-12-31 18:00:00-06:00</td>\n",
       "      <td>50.37</td>\n",
       "      <td>53.6</td>\n",
       "      <td>2019-01-01 00:00:00</td>\n",
       "      <td>1.0</td>\n",
       "    </tr>\n",
       "    <tr>\n",
       "      <th>2018-12-31 18:05:00</th>\n",
       "      <td>1</td>\n",
       "      <td>1</td>\n",
       "      <td>NaN</td>\n",
       "      <td>NaN</td>\n",
       "      <td>NaN</td>\n",
       "      <td>NaN</td>\n",
       "      <td>NaN</td>\n",
       "      <td>NaN</td>\n",
       "      <td>2018-12-31 18:05:00-06:00</td>\n",
       "      <td>50.37</td>\n",
       "      <td>53.6</td>\n",
       "      <td>2019-01-01 00:05:00</td>\n",
       "      <td>1.0</td>\n",
       "    </tr>\n",
       "    <tr>\n",
       "      <th>2018-12-31 18:10:00</th>\n",
       "      <td>2</td>\n",
       "      <td>2</td>\n",
       "      <td>NaN</td>\n",
       "      <td>NaN</td>\n",
       "      <td>NaN</td>\n",
       "      <td>NaN</td>\n",
       "      <td>NaN</td>\n",
       "      <td>NaN</td>\n",
       "      <td>2018-12-31 18:10:00-06:00</td>\n",
       "      <td>50.37</td>\n",
       "      <td>53.6</td>\n",
       "      <td>2019-01-01 00:10:00</td>\n",
       "      <td>1.0</td>\n",
       "    </tr>\n",
       "    <tr>\n",
       "      <th>2018-12-31 18:15:00</th>\n",
       "      <td>3</td>\n",
       "      <td>3</td>\n",
       "      <td>NaN</td>\n",
       "      <td>NaN</td>\n",
       "      <td>NaN</td>\n",
       "      <td>NaN</td>\n",
       "      <td>NaN</td>\n",
       "      <td>NaN</td>\n",
       "      <td>2018-12-31 18:15:00-06:00</td>\n",
       "      <td>50.37</td>\n",
       "      <td>53.6</td>\n",
       "      <td>2019-01-01 00:15:00</td>\n",
       "      <td>0.0</td>\n",
       "    </tr>\n",
       "    <tr>\n",
       "      <th>2018-12-31 18:20:00</th>\n",
       "      <td>4</td>\n",
       "      <td>4</td>\n",
       "      <td>NaN</td>\n",
       "      <td>NaN</td>\n",
       "      <td>NaN</td>\n",
       "      <td>NaN</td>\n",
       "      <td>NaN</td>\n",
       "      <td>NaN</td>\n",
       "      <td>2018-12-31 18:20:00-06:00</td>\n",
       "      <td>50.37</td>\n",
       "      <td>53.6</td>\n",
       "      <td>2019-01-01 00:20:00</td>\n",
       "      <td>0.0</td>\n",
       "    </tr>\n",
       "    <tr>\n",
       "      <th>...</th>\n",
       "      <td>...</td>\n",
       "      <td>...</td>\n",
       "      <td>...</td>\n",
       "      <td>...</td>\n",
       "      <td>...</td>\n",
       "      <td>...</td>\n",
       "      <td>...</td>\n",
       "      <td>...</td>\n",
       "      <td>...</td>\n",
       "      <td>...</td>\n",
       "      <td>...</td>\n",
       "      <td>...</td>\n",
       "      <td>...</td>\n",
       "    </tr>\n",
       "    <tr>\n",
       "      <th>2021-12-31 17:35:00</th>\n",
       "      <td>485205</td>\n",
       "      <td>485205</td>\n",
       "      <td>NaN</td>\n",
       "      <td>NaN</td>\n",
       "      <td>NaN</td>\n",
       "      <td>NaN</td>\n",
       "      <td>NaN</td>\n",
       "      <td>NaN</td>\n",
       "      <td>2021-12-31 17:35:00-06:00</td>\n",
       "      <td>82.89</td>\n",
       "      <td>68.0</td>\n",
       "      <td>2021-12-31 23:35:00</td>\n",
       "      <td>0.0</td>\n",
       "    </tr>\n",
       "    <tr>\n",
       "      <th>2021-12-31 17:40:00</th>\n",
       "      <td>485206</td>\n",
       "      <td>485206</td>\n",
       "      <td>NaN</td>\n",
       "      <td>NaN</td>\n",
       "      <td>NaN</td>\n",
       "      <td>NaN</td>\n",
       "      <td>NaN</td>\n",
       "      <td>NaN</td>\n",
       "      <td>2021-12-31 17:40:00-06:00</td>\n",
       "      <td>82.89</td>\n",
       "      <td>68.0</td>\n",
       "      <td>2021-12-31 23:40:00</td>\n",
       "      <td>0.0</td>\n",
       "    </tr>\n",
       "    <tr>\n",
       "      <th>2021-12-31 17:45:00</th>\n",
       "      <td>485207</td>\n",
       "      <td>485207</td>\n",
       "      <td>NaN</td>\n",
       "      <td>NaN</td>\n",
       "      <td>NaN</td>\n",
       "      <td>NaN</td>\n",
       "      <td>NaN</td>\n",
       "      <td>NaN</td>\n",
       "      <td>2021-12-31 17:45:00-06:00</td>\n",
       "      <td>82.89</td>\n",
       "      <td>68.0</td>\n",
       "      <td>2021-12-31 23:45:00</td>\n",
       "      <td>0.0</td>\n",
       "    </tr>\n",
       "    <tr>\n",
       "      <th>2021-12-31 17:50:00</th>\n",
       "      <td>485208</td>\n",
       "      <td>485208</td>\n",
       "      <td>NaN</td>\n",
       "      <td>NaN</td>\n",
       "      <td>NaN</td>\n",
       "      <td>NaN</td>\n",
       "      <td>NaN</td>\n",
       "      <td>NaN</td>\n",
       "      <td>2021-12-31 17:50:00-06:00</td>\n",
       "      <td>82.89</td>\n",
       "      <td>68.0</td>\n",
       "      <td>2021-12-31 23:50:00</td>\n",
       "      <td>0.0</td>\n",
       "    </tr>\n",
       "    <tr>\n",
       "      <th>2021-12-31 18:00:00</th>\n",
       "      <td>485209</td>\n",
       "      <td>485209</td>\n",
       "      <td>NaN</td>\n",
       "      <td>NaN</td>\n",
       "      <td>NaN</td>\n",
       "      <td>NaN</td>\n",
       "      <td>NaN</td>\n",
       "      <td>NaN</td>\n",
       "      <td>2021-12-31 18:00:00-06:00</td>\n",
       "      <td>82.89</td>\n",
       "      <td>68.0</td>\n",
       "      <td>2022-01-01 00:00:00</td>\n",
       "      <td>0.0</td>\n",
       "    </tr>\n",
       "  </tbody>\n",
       "</table>\n",
       "<p>485210 rows × 13 columns</p>\n",
       "</div>"
      ],
      "text/plain": [
       "                     level_0   index  year  month  weekday  day  hour  minute  \\\n",
       "datetime_local                                                                  \n",
       "2018-12-31 18:00:00        0       0   NaN    NaN      NaN  NaN   NaN     NaN   \n",
       "2018-12-31 18:05:00        1       1   NaN    NaN      NaN  NaN   NaN     NaN   \n",
       "2018-12-31 18:10:00        2       2   NaN    NaN      NaN  NaN   NaN     NaN   \n",
       "2018-12-31 18:15:00        3       3   NaN    NaN      NaN  NaN   NaN     NaN   \n",
       "2018-12-31 18:20:00        4       4   NaN    NaN      NaN  NaN   NaN     NaN   \n",
       "...                      ...     ...   ...    ...      ...  ...   ...     ...   \n",
       "2021-12-31 17:35:00   485205  485205   NaN    NaN      NaN  NaN   NaN     NaN   \n",
       "2021-12-31 17:40:00   485206  485206   NaN    NaN      NaN  NaN   NaN     NaN   \n",
       "2021-12-31 17:45:00   485207  485207   NaN    NaN      NaN  NaN   NaN     NaN   \n",
       "2021-12-31 17:50:00   485208  485208   NaN    NaN      NaN  NaN   NaN     NaN   \n",
       "2021-12-31 18:00:00   485209  485209   NaN    NaN      NaN  NaN   NaN     NaN   \n",
       "\n",
       "                                      datetime  Relative Humidity  \\\n",
       "datetime_local                                                      \n",
       "2018-12-31 18:00:00  2018-12-31 18:00:00-06:00              50.37   \n",
       "2018-12-31 18:05:00  2018-12-31 18:05:00-06:00              50.37   \n",
       "2018-12-31 18:10:00  2018-12-31 18:10:00-06:00              50.37   \n",
       "2018-12-31 18:15:00  2018-12-31 18:15:00-06:00              50.37   \n",
       "2018-12-31 18:20:00  2018-12-31 18:20:00-06:00              50.37   \n",
       "...                                        ...                ...   \n",
       "2021-12-31 17:35:00  2021-12-31 17:35:00-06:00              82.89   \n",
       "2021-12-31 17:40:00  2021-12-31 17:40:00-06:00              82.89   \n",
       "2021-12-31 17:45:00  2021-12-31 17:45:00-06:00              82.89   \n",
       "2021-12-31 17:50:00  2021-12-31 17:50:00-06:00              82.89   \n",
       "2021-12-31 18:00:00  2021-12-31 18:00:00-06:00              82.89   \n",
       "\n",
       "                     Temperature         datetime_UTC  counts  \n",
       "datetime_local                                                 \n",
       "2018-12-31 18:00:00         53.6  2019-01-01 00:00:00     1.0  \n",
       "2018-12-31 18:05:00         53.6  2019-01-01 00:05:00     1.0  \n",
       "2018-12-31 18:10:00         53.6  2019-01-01 00:10:00     1.0  \n",
       "2018-12-31 18:15:00         53.6  2019-01-01 00:15:00     0.0  \n",
       "2018-12-31 18:20:00         53.6  2019-01-01 00:20:00     0.0  \n",
       "...                          ...                  ...     ...  \n",
       "2021-12-31 17:35:00         68.0  2021-12-31 23:35:00     0.0  \n",
       "2021-12-31 17:40:00         68.0  2021-12-31 23:40:00     0.0  \n",
       "2021-12-31 17:45:00         68.0  2021-12-31 23:45:00     0.0  \n",
       "2021-12-31 17:50:00         68.0  2021-12-31 23:50:00     0.0  \n",
       "2021-12-31 18:00:00         68.0  2022-01-01 00:00:00     0.0  \n",
       "\n",
       "[485210 rows x 13 columns]"
      ]
     },
     "execution_count": 38,
     "metadata": {},
     "output_type": "execute_result"
    }
   ],
   "source": [
    "feat_min[\"counts\"] = feat_min[\"counts\"].fillna(0)\n",
    "\n",
    "#Drop certain columns if necessary\n",
    "#feat_min = feat_min.drop(['level_0_x', 'index_x','level_0_y', 'index_y'], axis=1)\n",
    "feat_min\n",
    "#feat_min.to_csv(\"feat_door_open\")"
   ]
  },
  {
   "cell_type": "code",
   "execution_count": 49,
   "metadata": {},
   "outputs": [],
   "source": [
    "#feat_min.set_index('datetime_local', inplace=True)\n",
    "#feat_min = feat_min.drop(['level_0', 'index','year', 'month','weekday', 'day', 'hour', 'minute', 'datetime'], axis=1)\n",
    "#feat_min = feat_min.drop(['Temperature', 'Relative Humidity', 'datetime_UTC'], axis=1)\n",
    "feat_min\n",
    "feat_min.to_csv(\"feature_train_inbound_door_open\")"
   ]
  },
  {
   "cell_type": "code",
   "execution_count": null,
   "metadata": {},
   "outputs": [],
   "source": [
    "feat_min.iloc[400]"
   ]
  }
 ],
 "metadata": {
  "colab": {
   "provenance": []
  },
  "kernelspec": {
   "display_name": "Python 3",
   "language": "python",
   "name": "python3"
  },
  "language_info": {
   "codemirror_mode": {
    "name": "ipython",
    "version": 3
   },
   "file_extension": ".py",
   "mimetype": "text/x-python",
   "name": "python",
   "nbconvert_exporter": "python",
   "pygments_lexer": "ipython3",
   "version": "3.8.3"
  }
 },
 "nbformat": 4,
 "nbformat_minor": 1
}
