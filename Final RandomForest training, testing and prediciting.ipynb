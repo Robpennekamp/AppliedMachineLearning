{
 "cells": [
  {
   "cell_type": "markdown",
   "metadata": {},
   "source": [
    "## Prepping features dataset\n",
    "\n",
    "\n",
    "Things to look at:\n",
    "1. We are currently dropping NA in Demand, Temp. and Humidity. --> Temp and humidity is given each 5 minutes, fill up temp. and humidity with average. \n",
    "2. Normalization\n",
    "3. Demand values we have:\n",
    "12/31/2018  21:15:00  upandincluding 10/11/2021/ 6:07:00\n",
    "4. Predicting the demand from \n",
    "10/11/2021/ 6:08 upandincluding 12/13/2021  17:59:00 "
   ]
  },
  {
   "cell_type": "code",
   "execution_count": 418,
   "metadata": {},
   "outputs": [],
   "source": [
    "from sklearn.model_selection import train_test_split\n",
    "\n",
    "from sklearn.model_selection import cross_val_score\n",
    "from sklearn.naive_bayes import GaussianNB\n",
    "from sklearn.linear_model import LogisticRegression\n",
    "from sklearn import tree\n",
    "from sklearn.svm import SVR\n",
    "from sklearn.metrics import r2_score\n",
    "from sklearn.metrics import f1_score\n",
    "from sklearn.metrics import mean_squared_error\n",
    "from sklearn.metrics import mean_absolute_error\n",
    "from tqdm import tqdm\n",
    "\n",
    "from sklearn.ensemble import RandomForestRegressor\n",
    "from sklearn.ensemble import GradientBoostingRegressor\n",
    "from sklearn.model_selection import TimeSeriesSplit"
   ]
  },
  {
   "cell_type": "code",
   "execution_count": 419,
   "metadata": {},
   "outputs": [],
   "source": [
    "def normalize_column(df, columnname):\n",
    "    \"\"\"Function which returns a Dataframe where the given column is normalized through min-max normalization.\"\"\"\n",
    "    df[f'{columnname}_normalized'] = (df[columnname] - df[columnname].min()) / (df[columnname].max() - df[columnname].min())\n",
    "    return df.drop([columnname], axis=1)\n",
    "\n",
    "def add_one_hot_encoder(df, colname):\n",
    "    \"\"\"\n",
    "    Function which returns a DataFrame where the given column has been removed and replaced by\n",
    "    one-hot-encoding columns for each value in the original column.\n",
    "    \"\"\"\n",
    "    onehot = pd.get_dummies(df[colname], prefix=colname)\n",
    "    return df.drop(colname, axis=1).join(onehot)\n",
    "\n",
    "def interpolate_column(df, colname):\n",
    "    df[f'{colname}_interpolated'] = df[colname].interpolate(method='linear')\n",
    "    return df.drop([colname], axis=1)"
   ]
  },
  {
   "cell_type": "code",
   "execution_count": 420,
   "metadata": {},
   "outputs": [],
   "source": [
    "import math, datetime, time, random\n",
    "import numpy as np\n",
    "import pandas as pd\n",
    "import matplotlib.pyplot as plt\n",
    "import re\n",
    "import time\n",
    "import itertools\n",
    "import tqdm\n",
    "from prophet import Prophet\n",
    "\n",
    "\n",
    "def load_data(data_path):\n",
    "  data = pd.read_csv(data_path)  \n",
    "  return data"
   ]
  },
  {
   "cell_type": "code",
   "execution_count": 421,
   "metadata": {},
   "outputs": [
    {
     "name": "stdout",
     "output_type": "stream",
     "text": [
      "(1552125, 15)\n"
     ]
    },
    {
     "name": "stderr",
     "output_type": "stream",
     "text": [
      "C:\\Users\\Rob Pennekamp\\AppData\\Local\\Temp\\ipykernel_22696\\898817105.py:15: SettingWithCopyWarning: \n",
      "A value is trying to be set on a copy of a slice from a DataFrame.\n",
      "Try using .loc[row_indexer,col_indexer] = value instead\n",
      "\n",
      "See the caveats in the documentation: https://pandas.pydata.org/pandas-docs/stable/user_guide/indexing.html#returning-a-view-versus-a-copy\n",
      "  df[f'{colname}_interpolated'] = df[colname].interpolate(method='linear')\n"
     ]
    }
   ],
   "source": [
    "#Load in the data\n",
    "all_data = load_data(\"train_test_features_df.csv\")\n",
    "print(all_data.shape)\n",
    "all_data['datetime_local'] = pd.to_datetime(all_data['datetime_local'])\n",
    "interpolate = ['Temperature', 'Relative Humidity']\n",
    "to_normalize = ['Relative Humidity_interpolated', 'Temperature_interpolated', 'weight_1h',  \n",
    "                'weight_5h', 'weight_10h', 'weight_23h', 'pallet_movement_5min', 'doors_open']\n",
    "add_one_hot_encoding = ['weekday', 'year', 'month']\n",
    "\n",
    "for x in interpolate:\n",
    "    all_data = interpolate_column(all_data, x)\n",
    "for x in to_normalize:\n",
    "    all_data = normalize_column(all_data, x)\n",
    "for x in add_one_hot_encoding:\n",
    "    all_data = add_one_hot_encoder(all_data, x)\n",
    "    \n",
    "all_data_train = all_data[all_data['datetime_local'] < '2021-10-11 06:08']\n",
    "all_data_predict = all_data[all_data['datetime_local'] >= '2021-10-11 06:08']\n",
    "predictions_dates = all_data_predict['datetime_local']\n",
    "all_data_predict = all_data_predict.drop('datetime_local', axis=1)\n",
    "all_data_train = interpolate_column(all_data_train, 'demand_kW')\n",
    "all_data_train = all_data_train.rename(columns={'demand_kW_interpolated': 'demand_kW'})\n",
    "all_data_predict = all_data_predict.drop('demand_kW', axis=1)"
   ]
  },
  {
   "cell_type": "code",
   "execution_count": 422,
   "metadata": {
    "scrolled": true
   },
   "outputs": [
    {
     "name": "stdout",
     "output_type": "stream",
     "text": [
      "(288043, 33)\n",
      "(288043, 1)\n",
      "(32005, 33)\n",
      "(32005, 1)\n",
      "(87840, 33)\n",
      "(87840, 1)\n"
     ]
    }
   ],
   "source": [
    "last_months = all_data_train[all_data_train['datetime_local'] >= '2021-08-11 06:08']\n",
    "train_data = all_data_train[all_data_train['datetime_local'] < '2021-08-11 06:08']\n",
    "\n",
    "#Setting date limit:\n",
    "train_data = train_data[train_data['datetime_local'] >= '2021-01-01 00:00']\n",
    "\n",
    "\n",
    "train, test = train_test_split(train_data, shuffle=False, test_size=0.1)\n",
    "X_train = train.copy().drop(['demand_kW'], axis=1)\n",
    "Y_train = train[['datetime_local', 'demand_kW']]\n",
    "Y_train.index = pd.to_datetime(Y_train['datetime_local'])\n",
    "Y_train = Y_train.drop('datetime_local', axis=1)\n",
    "\n",
    "X_test = test.copy().drop(['demand_kW'], axis=1)\n",
    "Y_test = test[['datetime_local', 'demand_kW']]\n",
    "Y_test.index = pd.to_datetime(Y_test['datetime_local'])\n",
    "Y_test = Y_test.drop('datetime_local', axis=1)\n",
    "\n",
    "X_lastmonths = last_months.copy().drop(['demand_kW'], axis=1)\n",
    "Y_lastmonths = last_months[['datetime_local', 'demand_kW']]\n",
    "Y_lastmonths.index = pd.to_datetime(Y_lastmonths['datetime_local'])\n",
    "Y_lastmonths = Y_lastmonths.drop('datetime_local', axis=1)\n",
    "\n",
    "X_train.index = pd.to_datetime(X_train['datetime_local'])\n",
    "X_train = X_train.drop(['datetime_local'], axis=1)\n",
    "X_test.index = pd.to_datetime(X_test['datetime_local'])\n",
    "X_test = X_test.drop(['datetime_local'], axis=1)\n",
    "X_lastmonths.index = pd.to_datetime(X_lastmonths['datetime_local'])\n",
    "X_lastmonths = X_lastmonths.drop(['datetime_local'], axis=1)\n",
    "\n",
    "\n",
    "training_data = [X_train, Y_train, X_test, Y_test, X_lastmonths, Y_lastmonths]\n",
    "for x in training_data:\n",
    "    print(x.shape)\n"
   ]
  },
  {
   "cell_type": "markdown",
   "metadata": {},
   "source": [
    "# Random Forest\n",
    "\n",
    "### Parameter settings:\n",
    "\n",
    "Testing parameters to find the best setting. For a while, the standard settings were best. However, with the inclusion of the frequency of data being another factor, messing around with the model parameters was beneficial.\n",
    "\n",
    "#### Sampling frequency\n",
    "Having tested every minute, every 15 minutes, one hour, one day and each week, we've found that every hour is the optimal sampling rate for Random Forest.\n",
    "\n",
    "#### n_estimators\n",
    "We've found that, in general, more estimators is better but that it flattens out at ~300 estimators.\n",
    "\n",
    "#### bootstrap\n",
    "True is significantly better in combination with all other parameters.\n",
    "\n",
    "#### loss function\n",
    "squared error had best performance\n",
    "\n",
    "#### max_depth\n",
    "An unlimited amount of depth is better in general, but performance flattens out at a depth of 12 with the amount of features in the final dataframe. For speed, this is set as the limit."
   ]
  },
  {
   "cell_type": "code",
   "execution_count": 302,
   "metadata": {},
   "outputs": [],
   "source": [
    "import itertools\n",
    "import pickle\n",
    "from datetime import date\n",
    "\n",
    "def find_optimal_parameters(data, model, params, n_splits=2, verbose=False, freq = 'min'):\n",
    "    \"\"\"\n",
    "    Function which will find the optimal parameters within set boudaries.\n",
    "    Receives as input:\n",
    "    - The data\n",
    "    - A model\n",
    "    - The dictionary of parameters to optimize:\n",
    "        - Key: parameter name\n",
    "        - Value: List of testing parameter values.\n",
    "    - The amount of Timeseries splits for crossvalidation (Standard: 5)\n",
    "    - Whether information should be printed or not (Standard: False)\n",
    "    \"\"\"\n",
    "    \n",
    "    parameter_combinations = itertools.product(*params.values())\n",
    "    results = {}\n",
    "    count = 1\n",
    "    for x in parameter_combinations:\n",
    "        model_name = f'Model {count}'\n",
    "        results[model_name] = [dict(zip(params.keys(), x))]\n",
    "        count +=1\n",
    "    lowest = 1000000000\n",
    "    best_model = \"\"\n",
    "    print(results['Model 1'])\n",
    "    for model_name in results.keys():\n",
    "        params_dict = results[model_name][0]\n",
    "        #print(f'Testing model {model_name} with parameters: {params_dict}')\n",
    "        current_model = model(**params_dict)\n",
    "        results[model_name].append(test_model(current_model,data, freq = freq))\n",
    "        #results[model_name].append(run_timeseries_model(data, current_model, n_splits=n_splits, verbose=verbose, freq = freq))\n",
    "        #print(results[model_name])\n",
    "        print(f'Finished testing model.{params_dict} Train RMSE: {results[model_name][1][0]}, Test RMSE: {results[model_name][1][1]}, LastMonths RMSE: {results[model_name][1][2]}')\n",
    "        if results[model_name][1][2] < lowest:\n",
    "            lowest = results[model_name][1][2]\n",
    "            best_model = current_model\n",
    "            best_model_name = model_name\n",
    "    try: \n",
    "        cur_best = pickle.load(open(f'best_model_{date.today()}.pkl', 'rb'))[1]\n",
    "        if cur_best > lowest:\n",
    "            print(\"New best rmse reached! Pickling model.\")\n",
    "            pickle.dump([best_model, lowest, best_model_name], open(f\"Best_model_{date.today()}.pkl\", 'wb'))\n",
    "        else:\n",
    "            print(\"RMSE of best model does not improve on the best model of today. Not saving model.\")\n",
    "    except FileNotFoundError:\n",
    "        print(\"New best rmse reached! Pickling model.\")\n",
    "        pickle.dump([best_model, lowest, best_model_name], open(f\"Best_model_{date.today()}.pkl\", 'wb'))\n",
    "    return results"
   ]
  },
  {
   "cell_type": "code",
   "execution_count": 307,
   "metadata": {},
   "outputs": [],
   "source": [
    "def test_model(model, data, debug=False, freq = 'min', get_model = False):            \n",
    "   \n",
    "    xtrain, ytrain, xtest, ytest, xlastmonths, ylastmonths = data\n",
    "    \n",
    "    if freq != 'min':\n",
    "        xtrain_resampled = xtrain.copy().asfreq(freq, method='ffill')\n",
    "        ytrain_resampled = ytrain.copy().asfreq(freq, method='ffill')['demand_kW']\n",
    "    else:\n",
    "        xtrain_resampled = xtrain.copy()\n",
    "        ytrain_resampled = ytrain.copy()['demand_kW']\n",
    "    if debug:\n",
    "        print(\"Fitting model...\")\n",
    "    model.fit(xtrain_resampled, ytrain_resampled)\n",
    "    \n",
    "    if debug:\n",
    "        print('Predicting...')\n",
    "    \n",
    "    acc_train = model.predict(xtrain_resampled)\n",
    "    acc_test = model.predict(xtest)\n",
    "    ytest = ytest['demand_kW']\n",
    "    acc_lastmonths = model.predict(xlastmonths)\n",
    "    ylastmonths = ylastmonths['demand_kW']\n",
    "    if debug:\n",
    "        print('Calculating rmse...')     \n",
    "    if get_model:\n",
    "        print('test:  ', mean_squared_error(list(ytest), acc_test, squared = False), \"train:    \", mean_squared_error(list(ytrain), acc_train, squared = False), \"month:    \", mean_squared_error(list(lastmonths_Y_test), acc_lastmonths, squared = False))\n",
    "        return model\n",
    "    return mean_squared_error(list(ytrain_resampled), acc_train, squared = False), mean_squared_error(list(ytest), acc_test, squared = False), mean_squared_error(list(ylastmonths), acc_lastmonths, squared = False),"
   ]
  },
  {
   "cell_type": "code",
   "execution_count": 310,
   "metadata": {},
   "outputs": [
    {
     "name": "stdout",
     "output_type": "stream",
     "text": [
      "[{'n_estimators': 300, 'criterion': 'squared_error', 'max_depth': 12, 'bootstrap': True, 'max_features': None}]\n",
      "Finished testing model.{'n_estimators': 300, 'criterion': 'squared_error', 'max_depth': 12, 'bootstrap': True, 'max_features': None} Train RMSE: 132.23616003750772, Test RMSE: 391.87185142034775, LastMonths RMSE: 430.4062636873426\n",
      "New best rmse reached! Pickling model.\n"
     ]
    },
    {
     "data": {
      "text/plain": [
       "{'Model 1': [{'n_estimators': 300,\n",
       "   'criterion': 'squared_error',\n",
       "   'max_depth': 12,\n",
       "   'bootstrap': True,\n",
       "   'max_features': None},\n",
       "  (132.23616003750772, 391.87185142034775, 430.4062636873426)]}"
      ]
     },
     "execution_count": 310,
     "metadata": {},
     "output_type": "execute_result"
    }
   ],
   "source": [
    "model_RF = RandomForestRegressor\n",
    "RF_parameters = {\n",
    "    'n_estimators': [300],\n",
    "    'criterion': ['squared_error'],    \n",
    "    'max_depth': [12],\n",
    "    'bootstrap': [True],\n",
    "    'max_features': [None]\n",
    "    }\n",
    "find_optimal_parameters(training_data, model_RF, RF_parameters, freq='h')"
   ]
  },
  {
   "cell_type": "code",
   "execution_count": 311,
   "metadata": {},
   "outputs": [
    {
     "name": "stdout",
     "output_type": "stream",
     "text": [
      "[{'n_estimators': 700, 'criterion': 'squared_error', 'learning_rate': 0.1, 'max_leaf_nodes': None, 'max_depth': 20}]\n",
      "Finished testing model.{'n_estimators': 700, 'criterion': 'squared_error', 'learning_rate': 0.1, 'max_leaf_nodes': None, 'max_depth': 20} Train RMSE: 1.4888847792537628e-08, Test RMSE: 561.7772733563354, LastMonths RMSE: 643.0375764343014\n",
      "RMSE of best model does not improve on the best model of today. Not saving model.\n"
     ]
    }
   ],
   "source": [
    "GB_parameters = {\n",
    "    'n_estimators': [700],\n",
    "    'criterion': ['squared_error'], \n",
    "    'learning_rate': [0.1],\n",
    "    'max_leaf_nodes': [None],\n",
    "    'max_depth': [20]\n",
    "    }\n",
    "\n",
    "model_GB = GradientBoostingRegressor\n",
    "\n",
    "test_GB = find_optimal_parameters(training_data, model_GB, GB_parameters, freq = '1h')"
   ]
  },
  {
   "cell_type": "code",
   "execution_count": 423,
   "metadata": {
    "scrolled": true
   },
   "outputs": [
    {
     "name": "stdout",
     "output_type": "stream",
     "text": [
      "91432\n",
      "91432 91432\n"
     ]
    },
    {
     "data": {
      "image/png": "[encoded data removed]",
      "text/plain": [
       "<Figure size 640x480 with 1 Axes>"
      ]
     },
     "metadata": {},
     "output_type": "display_data"
    }
   ],
   "source": [
    "cur_best = pickle.load(open(f'best_model_2023-06-18.pkl', 'rb'))\n",
    "todays_best = pickle.load(open(f'best_model_{date.today()}.pkl', 'rb'))\n",
    "print(len(predictions_dates))\n",
    "test = trainentest.iloc[273988:, :].drop(['demand_kW'], axis=1)\n",
    "\n",
    "\n",
    "def get_final_predictions(model, data):\n",
    "    return model.predict(data)\n",
    "predictions = get_final_predictions(todays_best[0], all_data_predict)\n",
    "print(len(predictions_dates), len(predictions))\n",
    "plt.plot(predictions_dates, predictions)\n",
    "plt.show()\n"
   ]
  },
  {
   "cell_type": "code",
   "execution_count": 427,
   "metadata": {},
   "outputs": [],
   "source": [
    "final_pred = pd.DataFrame(predictions_dates, columns = ['datetime_local'])\n",
    "final_pred['demand_kW'] = predictions\n",
    "final_pred.to_csv('RF_predictions.csv', index=False)"
   ]
  }
 ],
 "metadata": {
  "kernelspec": {
   "display_name": "Python 3 (ipykernel)",
   "language": "python",
   "name": "python3"
  },
  "language_info": {
   "codemirror_mode": {
    "name": "ipython",
    "version": 3
   },
   "file_extension": ".py",
   "mimetype": "text/x-python",
   "name": "python",
   "nbconvert_exporter": "python",
   "pygments_lexer": "ipython3",
   "version": "3.9.5"
  }
 },
 "nbformat": 4,
 "nbformat_minor": 2
}
